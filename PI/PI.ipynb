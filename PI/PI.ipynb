{
 "cells": [
  {
   "cell_type": "code",
   "execution_count": 1,
   "metadata": {},
   "outputs": [],
   "source": [
    "def calc_VPL(inv_ini, lista_retorno, taxa):\n",
    "    VPL = -inv_ini\n",
    "    for idx, val in enumerate(lista_retorno):\n",
    "        VPL += val/(1+taxa)**(idx+1)\n",
    "    return VPL\n",
    "\n",
    "def calc_TIRM(inv_ini, lista_retorno, taxa):\n",
    "    VF = 0\n",
    "    VP = abs(inv_ini)\n",
    "\n",
    "    i = len(lista_retorno)-1\n",
    "\n",
    "    for valor in lista_retorno:\n",
    "        VF += valor*(1+taxa)**i\n",
    "        i -= 1\n",
    "\n",
    "    n = len(lista_retorno)\n",
    "    TIRM = ((VF/VP)**(1/n) - 1)*100\n",
    "    return TIRM"
   ]
  },
  {
   "cell_type": "code",
   "execution_count": 8,
   "metadata": {},
   "outputs": [
    {
     "name": "stdout",
     "output_type": "stream",
     "text": [
      "VPL é igual a 871613.6449959363\n",
      "TIRM é igual a 21.40376497567642\n"
     ]
    }
   ],
   "source": [
    "## Rafael\n",
    "inicial_rafael = 1_950_000\n",
    "retorno_rafael = [620_000, 620_000, 620_000, 605_000, 600_000, 593_000, 588_000, 585_000, 581_000, 577_000]\n",
    "TMA_rafael = 0.17\n",
    "VPL_rafael = calc_VPL(inicial_rafael, retorno_rafael, TMA_rafael)\n",
    "TIRM_rafael = calc_TIRM(inicial_rafael, retorno_rafael, TMA_rafael)\n",
    "print(\"VPL é igual a {}\".format(VPL_rafael))\n",
    "print(\"TIRM é igual a {}\".format(TIRM_rafael))"
   ]
  },
  {
   "cell_type": "code",
   "execution_count": 9,
   "metadata": {},
   "outputs": [
    {
     "name": "stdout",
     "output_type": "stream",
     "text": [
      "VPL é igual a 522676.14278552844\n",
      "TIRM é igual a 30.394129231701193\n"
     ]
    }
   ],
   "source": [
    "## Isabela\n",
    "inicial_isabela = 800_000\n",
    "retorno_isabela = [365_000, 360_000, 360_000, 360_000, 355_000, 350_000, 345_000, 340_000, 335_000, 430_000]\n",
    "TMA_isabela = 0.24\n",
    "VPL_isabela = calc_VPL(inicial_isabela, retorno_isabela, TMA_isabela)\n",
    "TIRM_isabela = calc_TIRM(inicial_isabela, retorno_isabela, TMA_isabela)\n",
    "print(\"VPL é igual a {}\".format(VPL_isabela))\n",
    "print(\"TIRM é igual a {}\".format(TIRM_isabela))"
   ]
  },
  {
   "cell_type": "code",
   "execution_count": null,
   "metadata": {},
   "outputs": [],
   "source": []
  },
  {
   "cell_type": "code",
   "execution_count": null,
   "metadata": {},
   "outputs": [],
   "source": []
  },
  {
   "cell_type": "code",
   "execution_count": null,
   "metadata": {},
   "outputs": [],
   "source": []
  },
  {
   "cell_type": "code",
   "execution_count": null,
   "metadata": {},
   "outputs": [],
   "source": []
  }
 ],
 "metadata": {
  "kernelspec": {
   "display_name": "Python 3",
   "language": "python",
   "name": "python3"
  },
  "language_info": {
   "codemirror_mode": {
    "name": "ipython",
    "version": 3
   },
   "file_extension": ".py",
   "mimetype": "text/x-python",
   "name": "python",
   "nbconvert_exporter": "python",
   "pygments_lexer": "ipython3",
   "version": "3.8.6"
  }
 },
 "nbformat": 4,
 "nbformat_minor": 4
}
