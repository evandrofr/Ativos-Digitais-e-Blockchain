{
 "cells": [
  {
   "cell_type": "markdown",
   "metadata": {},
   "source": [
    "## QUIZ"
   ]
  },
  {
   "cell_type": "markdown",
   "metadata": {},
   "source": [
    "1- Você foi promovido (a) a Gerente na área de tecnologia de uma Instituição Financeira, que possui uma taxa mínima de atratividade de 20 % a.a. e participará de uma reunião que decidirá sobre investimentos em sistemas para controle de risco e compliance, visando a adequação aos parâmetros de controle do Comitê da Basiléia, para os próximos quatro anos. Recebeu um relatório com os Fluxos de Caixa dos projetos a serem analisados."
   ]
  },
  {
   "cell_type": "markdown",
   "metadata": {},
   "source": [
    "Os dados para avaliação e tomada de decisão encontram-se nos Quadros 1 e 2, apresentados abaixo.\n",
    "    \n",
    "Quadro 1- Fluxo de caixa projetado dos projetos\n",
    "\n",
    "Ano      |\t0       |\t1     |\t2       |\t3     |\t4       \n",
    ":--------|:--------:|:-------:|:-------:|:-------:|:-------:|\n",
    "Projeto A|- 500.000| 150.000| 250.000| 350.000| 450.000|\n",
    "Projeto B|- 500.000| 200.000| 150.000| 100.000| 50.000 |\n",
    "Projeto C|- 500.000| 400.000| 300.000| 200.000| 100.000|\n",
    "\n",
    "Quadro 2- Indicadores para analise de viabilidade dos projetos\n",
    "\n",
    "|Indicadores|\tVPL|\tTIR|\n",
    "|-----------|------|-------|\n",
    "|Projeto A\t|+  218.171,30|37,7% a.a|\n",
    "|Projeto B\t|-  147.183,64|0,0% a.a.|\n",
    "|Projeto C\t|+  205.632.72|46,17% a.a.|\n",
    "\n",
    "\n",
    "\n",
    " Com base nas informações obtidas, responda as questões abaixo e justifique a sua decisão. \n"
   ]
  },
  {
   "cell_type": "code",
   "execution_count": 21,
   "metadata": {},
   "outputs": [],
   "source": [
    "def calc_VPL(inv_ini, lista_retorno, taxa):\n",
    "    VPL = -inv_ini\n",
    "    for idx, val in enumerate(lista_retorno):\n",
    "        VPL += val/(1+taxa)**(idx+1)\n",
    "    return VPL\n",
    "\n",
    "def calc_TIRM(inv_ini, lista_retorno, taxa):\n",
    "    VF = 0\n",
    "    VP = inv_ini\n",
    "\n",
    "    i = len(lista_retorno)-1\n",
    "\n",
    "    for valor in lista_retorno:\n",
    "        VF += valor*(1+taxa)**i\n",
    "        i-=1\n",
    "\n",
    "    n = len(lista_retorno)-1\n",
    "    TIRM = ((VF/VP)**(1/n) - 1)*100\n",
    "    return TIRM"
   ]
  },
  {
   "cell_type": "code",
   "execution_count": 22,
   "metadata": {},
   "outputs": [],
   "source": [
    "inv_init = 500_000\n",
    "TMA = 0.2\n",
    "retornoA = [150_000, 250_000, 350_000, 450_000]\n",
    "retornoB = [200_000, 150_000, 100_000,  50_000]\n",
    "retornoC = [400_000, 300_000, 200_000, 100_000]"
   ]
  },
  {
   "cell_type": "code",
   "execution_count": 25,
   "metadata": {},
   "outputs": [
    {
     "name": "stdout",
     "output_type": "stream",
     "text": [
      "VPL do Projeto A: 218171.29629629635\n",
      "VPL do Projeto B: -147183.6419753086\n",
      "VPL do Projeto C: 205632.71604938278\n"
     ]
    }
   ],
   "source": [
    "VPL_A = calc_VPL(inv_init, retornoA,TMA)\n",
    "VPL_B = calc_VPL(inv_init, retornoB,TMA)\n",
    "VPL_C = calc_VPL(inv_init, retornoC,TMA)\n",
    "print(\"VPL do Projeto A: {}\".format(VPL_A))\n",
    "print(\"VPL do Projeto B: {}\".format(VPL_B))\n",
    "print(\"VPL do Projeto C: {}\".format(VPL_C))"
   ]
  },
  {
   "cell_type": "code",
   "execution_count": 26,
   "metadata": {},
   "outputs": [
    {
     "name": "stdout",
     "output_type": "stream",
     "text": [
      "TIRM do Projeto A: 43.877983059136724 %\n",
      "TIRM do Projeto B: 13.527540911182733 %\n",
      "TIRM do Projeto C: 43.035738536800515 %\n"
     ]
    }
   ],
   "source": [
    "TIRM_A = calc_TIRM(inv_init,retornoA, TMA)\n",
    "TIRM_B = calc_TIRM(inv_init,retornoB, TMA)\n",
    "TIRM_C = calc_TIRM(inv_init,retornoC, TMA)\n",
    "print(\"TIRM do Projeto A: {} %\".format(TIRM_A))\n",
    "print(\"TIRM do Projeto B: {} %\".format(TIRM_B))\n",
    "print(\"TIRM do Projeto C: {} %\".format(TIRM_C))"
   ]
  },
  {
   "cell_type": "markdown",
   "metadata": {},
   "source": [
    " <b>a) Caso essa Instituição pretenda escolher um único projeto para investir, qual deverá ser esse projeto? Justifique.  <b>"
   ]
  },
  {
   "cell_type": "markdown",
   "metadata": {},
   "source": [
    "O melhor projeto para se investir é o projeto A, pois ele possui o maior VPL entre os três."
   ]
  },
  {
   "cell_type": "markdown",
   "metadata": {},
   "source": [
    " <b>b) caso a empresa não tenha restrições de capital para investimento, qual (is) projeto (s) ela deverá escolher? Justifique.   <b>"
   ]
  },
  {
   "cell_type": "markdown",
   "metadata": {},
   "source": [
    "Deve investir nos projetos A e C pois são aqueles que possuem VPL positivos e darão algum retorno significativo."
   ]
  },
  {
   "cell_type": "markdown",
   "metadata": {},
   "source": [
    " <b>c) compare o método do VPL - Valor Presente Líquido com o método da TIR - Taxa Interna de Retorno e identifique as vantagens e desvantagens de cada metodologia no que concerne às decisões de investimento.  <b>"
   ]
  },
  {
   "cell_type": "code",
   "execution_count": null,
   "metadata": {},
   "outputs": [],
   "source": []
  }
 ],
 "metadata": {
  "kernelspec": {
   "display_name": "Python 3",
   "language": "python",
   "name": "python3"
  },
  "language_info": {
   "codemirror_mode": {
    "name": "ipython",
    "version": 3
   },
   "file_extension": ".py",
   "mimetype": "text/x-python",
   "name": "python",
   "nbconvert_exporter": "python",
   "pygments_lexer": "ipython3",
   "version": "3.8.6"
  }
 },
 "nbformat": 4,
 "nbformat_minor": 4
}
