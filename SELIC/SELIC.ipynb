{
 "cells": [
  {
   "cell_type": "code",
   "execution_count": 40,
   "metadata": {},
   "outputs": [],
   "source": [
    "import csv\n",
    "with open('dados_selic.csv') as csv_file:\n",
    "    csv_reader = csv.reader(csv_file, delimiter=';')\n",
    "    csv_reader.__next__()\n",
    "    lista_data_string = []\n",
    "    lista_selic = []\n",
    "    for row in csv_reader:\n",
    "        lista_data_string.append(row[0])\n",
    "        lista_selic.append(float(row[1]))\n",
    "\n",
    "lista_data_string = lista_data_string[::-1]\n",
    "lista_selic = lista_selic[::-1]\n"
   ]
  },
  {
   "cell_type": "code",
   "execution_count": 41,
   "metadata": {},
   "outputs": [],
   "source": [
    "from datetime import datetime\n",
    "lista_data = []\n",
    "for data in lista_data_string:\n",
    "    d = datetime.strptime(data, \"%d/%m/%Y\")\n",
    "    lista_data.append(d)"
   ]
  },
  {
   "cell_type": "code",
   "execution_count": 42,
   "metadata": {},
   "outputs": [
    {
     "data": {
      "image/png": "[encoded data removed]",
      "text/plain": [
       "<Figure size 432x288 with 1 Axes>"
      ]
     },
     "metadata": {
      "needs_background": "light"
     },
     "output_type": "display_data"
    }
   ],
   "source": [
    "import matplotlib.pyplot as plt\n",
    "plt.plot(lista_data, lista_selic, 'bo')\n",
    "plt.plot(lista_data, lista_selic, 'b-')\n",
    "plt.title(\"SELIC\")\n",
    "plt.grid()\n",
    "plt.show()"
   ]
  },
  {
   "cell_type": "code",
   "execution_count": 36,
   "metadata": {},
   "outputs": [
    {
     "name": "stdout",
     "output_type": "stream",
     "text": [
      "Media: 16.22830578512397\n",
      "Mediana: 15.79\n",
      "Desvio padrão populacional: 8.19742919925164\n",
      "Variância populaciona: 67.1978454767434\n",
      "Moda: 6.4\n"
     ]
    }
   ],
   "source": [
    "import statistics as st\n",
    "print(\"Media: {}\".format(st.mean(lista_selic)))\n",
    "print(\"Mediana: {}\".format(st.median(lista_selic)))\n",
    "print(\"Desvio padrão populacional: {}\".format(st.pstdev(lista_selic)))\n",
    "print(\"Variância populaciona: {}\".format(st.pvariance(lista_selic)))\n",
    "print(\"Moda: {}\".format(st.mode(lista_selic)))"
   ]
  },
  {
   "cell_type": "code",
   "execution_count": null,
   "metadata": {},
   "outputs": [],
   "source": []
  }
 ],
 "metadata": {
  "kernelspec": {
   "display_name": "Python 3",
   "language": "python",
   "name": "python3"
  },
  "language_info": {
   "codemirror_mode": {
    "name": "ipython",
    "version": 3
   },
   "file_extension": ".py",
   "mimetype": "text/x-python",
   "name": "python",
   "nbconvert_exporter": "python",
   "pygments_lexer": "ipython3",
   "version": "3.8.6"
  }
 },
 "nbformat": 4,
 "nbformat_minor": 4
}
