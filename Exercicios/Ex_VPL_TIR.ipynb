{
 "cells": [
  {
   "cell_type": "code",
   "execution_count": 27,
   "metadata": {},
   "outputs": [],
   "source": [
    "def calc_VPL(inv_ini, lista_retorno, taxa):\n",
    "    VPL = -inv_ini\n",
    "    for idx, val in enumerate(lista_retorno):\n",
    "        VPL += val/(1+taxa)**(idx+1)\n",
    "    return VPL\n",
    "\n",
    "def calc_TIRM(inv_ini, lista_retorno, taxa):\n",
    "    VF = 0\n",
    "    VP = abs(inv_ini)\n",
    "\n",
    "    i = len(lista_retorno)-1\n",
    "\n",
    "    for valor in lista_retorno:\n",
    "        VF += valor*(1+taxa)**i\n",
    "        i -= 1\n",
    "\n",
    "    n = len(lista_retorno)\n",
    "    TIRM = ((VF/VP)**(1/n) - 1)*100\n",
    "    return TIRM"
   ]
  },
  {
   "cell_type": "markdown",
   "metadata": {},
   "source": [
    "1- O Banco Internacional de Descontos (BIDES), está avaliando a possibilidade de investir no Brasil, através da aquisição do Banco Empresta Baratinho (BEB). O atual banqueiro controlador, Sr. Cobra Juros, está disposto a vender a totalidade do controle acionário pelo valor de 250.000.<br>\n",
    "As estimativas, feitas pelo BIDES, das Receitas, Despesas e Custos Operacionais do BEB para os próximos 5 anos sob seu controle encontram-se abaixo:<br>\n",
    "\n",
    "Receitas <br>\n",
    "De operações de empréstimos –  800.000 anuais<br>\n",
    "De prestação de Serviços (conta corrente, cartão de crédito, etc.) - 65.000 anuais.<br>\n",
    "\n",
    "Despesas<br>\n",
    "De operações de captação no mercado -  480.000 anuais<br>\n",
    "Folha de Pagamento –  65.000 anuais<br>\n",
    "Provisões para demandas judiciais-  50.000 anuais<br>"
   ]
  },
  {
   "cell_type": "code",
   "execution_count": 28,
   "metadata": {},
   "outputs": [],
   "source": [
    "# valor de compra\n",
    "compra = 250_000\n",
    "\n",
    "# Receitas\n",
    "op_emp = 800_000\n",
    "servicos = 65_000\n",
    "\n",
    "# Despesas\n",
    "op_cap_mer = 480_000\n",
    "folha = 65_000\n",
    "provisoes = 50_000"
   ]
  },
  {
   "cell_type": "markdown",
   "metadata": {},
   "source": [
    "Considere, por simplificação, que as únicas receitas e custos do banco são os mencionados acima. O imposto de renda é pago anualmente através de uma alíquota de 15 % sobre o total de receitas.\n",
    "O BIDES estima ser possível desfazer-se do investimento dentro de 5 anos por um valor de 250.000.\n",
    "A taxa mínima de atratividade do BEB é de 25% a.a."
   ]
  },
  {
   "cell_type": "code",
   "execution_count": 29,
   "metadata": {},
   "outputs": [],
   "source": [
    "taxa_IR = 0.15\n",
    "TMA = 0.25"
   ]
  },
  {
   "cell_type": "markdown",
   "metadata": {},
   "source": [
    "<b>Pede-se, após a montagem do fluxo de caixa do BEB:<br>\n",
    "A- O Banco Internacional de Descontos deve adquirir o controle do Banco Empresta Baratinho? Justifique sua resposta, mencionando o indicador que o levou a chegar a esta conclusão e por que este indicador se aplica ao caso.<b>"
   ]
  },
  {
   "cell_type": "markdown",
   "metadata": {},
   "source": [
    "Ano      |Investimento|Receita Op_emp|Receita servico|Despesa op_cap_mer|Despesa folha|Despesa provisoes|IR|FLuxo de caixa liquido|      \n",
    ":--------|:--------:|:--------:|:-------:|:-------:|:-------:|:-------:|:-------:|:-------:|\n",
    "0|-250000|0|0|0|0|0|0|-250000|\n",
    "1|0|800000| 65000| -480000| -65000| -50000|-129750|140250|\n",
    "2|0|800000| 65000| -480000| -65000| -50000|-129750|140250|\n",
    "3|0|800000| 65000| -480000| -65000| -50000|-129750|140250|\n",
    "4|0|800000| 65000| -480000| -65000| -50000|-129750|140250|\n",
    "5|250000|800000| 65000| -480000| -65000| -50000|-129750|390250|"
   ]
  },
  {
   "cell_type": "code",
   "execution_count": 30,
   "metadata": {},
   "outputs": [
    {
     "data": {
      "text/plain": [
       "209091.52"
      ]
     },
     "execution_count": 30,
     "metadata": {},
     "output_type": "execute_result"
    }
   ],
   "source": [
    "retornos = [140250,140250,140250,140250,140250+250000]\n",
    "calc_VPL(compra,retornos,TMA)"
   ]
  },
  {
   "cell_type": "code",
   "execution_count": 31,
   "metadata": {},
   "outputs": [
    {
     "data": {
      "text/plain": [
       "41.15681983589114"
      ]
     },
     "execution_count": 31,
     "metadata": {},
     "output_type": "execute_result"
    }
   ],
   "source": [
    "calc_TIRM(compra,retornos,TMA)"
   ]
  },
  {
   "cell_type": "markdown",
   "metadata": {},
   "source": [
    "<b>B-O Sr. Cobra Juros irá perder com a possível venda? Justifique suas considerações explicando por que ele aceita vender a empresa por apenas 250.000 sendo que o BIDES está disposto a pagar um preço diferente deste.<b>"
   ]
  },
  {
   "cell_type": "markdown",
   "metadata": {},
   "source": [
    "Isso pode ocorrer por diversos motivos como os quais a entrada de um novo banco como concorrencia ou a falta de um sucessor na administração do banco."
   ]
  },
  {
   "cell_type": "markdown",
   "metadata": {},
   "source": [
    "<b>C-O banco foi vendido e todas as expectativas no processo de avaliação vêm ocorrendo durante os dois primeiros anos e o BIDES recebe uma oferta de um banco estrangeiro, que oferece  375.000 pelo BEB. Esta oferta deve ser aceita? Justifique.<b>"
   ]
  },
  {
   "cell_type": "code",
   "execution_count": 35,
   "metadata": {},
   "outputs": [
    {
     "data": {
      "text/plain": [
       "-26768.0"
      ]
     },
     "execution_count": 35,
     "metadata": {},
     "output_type": "execute_result"
    }
   ],
   "source": [
    "preco_venda = -375_000 # negativo pois é uma venda e não compra\n",
    "lista_retornos = [-140250,-140250,-140250-250000] # negativo pois deixo de ganhar\n",
    "calc_VPL(preco_venda,lista_retornos,TMA)"
   ]
  },
  {
   "cell_type": "markdown",
   "metadata": {},
   "source": [
    "É melhor ficar com o banco pois o VPL é negativo, ou seja, o investidor ganhará mais dinheiro ficando com o banco do que vendendo."
   ]
  },
  {
   "cell_type": "markdown",
   "metadata": {},
   "source": [
    "<b>D- Ao final de cinco anos, o fluxo de caixa gerado pelo BEB foi distribuído ao BIDES na sua totalidade, fluxos estes que foram reinvestidos à taxa de 18% ao ano. Nesta situação, qual foi o retorno em taxa anual obtido pelo BIDES na fusão como BEB? Compare esta taxa com a taxa interna de retorno que serviu de base para decidir pela compra do BEB e explique a principal razão de sua diferença. Considere que todas as expectativas do projeto ocorreram nos cinco anos.<b>"
   ]
  },
  {
   "cell_type": "code",
   "execution_count": 40,
   "metadata": {},
   "outputs": [
    {
     "name": "stdout",
     "output_type": "stream",
     "text": [
      "Valor: R$ 1253377.91884\n",
      "TIRM: 38.0474555085744 %\n"
     ]
    }
   ],
   "source": [
    "retornos = [140250,140250,140250,140250,140250+250000]\n",
    "taxa = 0.18 #a.a. \n",
    "soma = 0\n",
    "size = len(retornos)\n",
    "for idx, valor in enumerate(retornos):\n",
    "    soma += valor*(1+taxa)**(size-idx-1)\n",
    "print(\"Valor: R$ {}\".format(soma))\n",
    "print(\"TIRM: {} %\".format(calc_TIRM(compra,retornos,taxa)))"
   ]
  },
  {
   "cell_type": "code",
   "execution_count": null,
   "metadata": {},
   "outputs": [],
   "source": []
  }
 ],
 "metadata": {
  "kernelspec": {
   "display_name": "Python 3",
   "language": "python",
   "name": "python3"
  },
  "language_info": {
   "codemirror_mode": {
    "name": "ipython",
    "version": 3
   },
   "file_extension": ".py",
   "mimetype": "text/x-python",
   "name": "python",
   "nbconvert_exporter": "python",
   "pygments_lexer": "ipython3",
   "version": "3.8.6"
  }
 },
 "nbformat": 4,
 "nbformat_minor": 4
}
