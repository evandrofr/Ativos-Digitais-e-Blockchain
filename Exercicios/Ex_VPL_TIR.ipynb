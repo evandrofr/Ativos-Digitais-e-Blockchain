{
 "cells": [
  {
   "cell_type": "code",
   "execution_count": 13,
   "metadata": {},
   "outputs": [
    {
     "name": "stdout",
     "output_type": "stream",
     "text": [
      "140250.0 de lucro anual.\n"
     ]
    }
   ],
   "source": [
    "# \"preco\" do banco\n",
    "preco = 250000\n",
    "\n",
    "# Receitas\n",
    "operacoes_emprestimos = 800000 #Anual\n",
    "prestacao_servico = 65000 #Anual\n",
    "\n",
    "# Despesas\n",
    "operacoes_cap_merc = 480000 #Anual\n",
    "folha_pag = 65000 #Anual\n",
    "prov_dem_jud = 50000 #Anual\n",
    "\n",
    "# Imposto de Renda\n",
    "receita_total = operacoes_emprestimos + prestacao_servico\n",
    "IR = 0.15 * receita_total\n",
    "\n",
    "# Lucro\n",
    "lucro = receita_total - IR - operacoes_cap_merc - folha_pag - prov_dem_jud\n",
    "print(\"{} de lucro anual.\".format(lucro))\n"
   ]
  },
  {
   "cell_type": "code",
   "execution_count": 14,
   "metadata": {},
   "outputs": [],
   "source": [
    "# Taxa minima de atratividade\n",
    "BEB = 0.25 #Anual\n"
   ]
  },
  {
   "cell_type": "code",
   "execution_count": 27,
   "metadata": {},
   "outputs": [],
   "source": [
    "def calc_VPL(inv_ini, lista_retorno, taxa):\n",
    "    VPL = -inv_ini\n",
    "    for idx, val in enumerate(lista_retorno):\n",
    "        VPL += val/(1+taxa)**idx\n",
    "    return VPL"
   ]
  },
  {
   "cell_type": "code",
   "execution_count": 28,
   "metadata": {},
   "outputs": [],
   "source": [
    "retornos = [140250,140250,140250,140250,140250+250000]"
   ]
  },
  {
   "cell_type": "code",
   "execution_count": 30,
   "metadata": {},
   "outputs": [
    {
     "data": {
      "text/plain": [
       "433599.0267687724"
      ]
     },
     "execution_count": 30,
     "metadata": {},
     "output_type": "execute_result"
    }
   ],
   "source": [
    "calc_VPL(preco,retornos,0.15)"
   ]
  },
  {
   "cell_type": "code",
   "execution_count": 32,
   "metadata": {},
   "outputs": [],
   "source": [
    "from FINANCAS import Financas"
   ]
  },
  {
   "cell_type": "code",
   "execution_count": 34,
   "metadata": {},
   "outputs": [
    {
     "name": "stdout",
     "output_type": "stream",
     "text": [
      "\n",
      "    --------------- Finance class -----------\n",
      "    methods:\n",
      "        ===== juros =====\n",
      "        Inputs:\n",
      "               Vo (Initial value) (float) \n",
      "               taxa (Rate along time) (float)\n",
      "               tempo (time span) (int)\n",
      "               tipo_de_juros ('simples' || 'composto') (str)\n",
      "               output ('total' || 'difference' || 'percentage') (str)\n",
      "        Outputs:\n",
      "               float (based on 'output' parameter)\n",
      "        \n",
      "        ===== calc_VPL =====\n",
      "        Inputs:\n",
      "                fluxo_de_caixa (cash flow along time) (list)\n",
      "                TMA (oportunity cost + risk) (float)\n",
      "        Outputs:\n",
      "                float (VPL value)\n",
      "\n",
      "        ===== calc_TIRM =====\n",
      "        Inputs:\n",
      "                fluxo_de_caixa (cash flow along time) (list)\n",
      "                taxa_de_reinvestimento (reinvestment rate) (float)\n",
      "        Outputs:\n",
      "                float (TIRM value)\n",
      "        \n"
     ]
    }
   ],
   "source": [
    "financas = Financas()\n",
    "print(financas)"
   ]
  },
  {
   "cell_type": "code",
   "execution_count": 13,
   "metadata": {},
   "outputs": [
    {
     "name": "stdout",
     "output_type": "stream",
     "text": [
      "\n",
      "abc\n",
      "\n"
     ]
    }
   ],
   "source": []
  },
  {
   "cell_type": "code",
   "execution_count": null,
   "metadata": {},
   "outputs": [],
   "source": []
  }
 ],
 "metadata": {
  "kernelspec": {
   "display_name": "Python 3",
   "language": "python",
   "name": "python3"
  },
  "language_info": {
   "codemirror_mode": {
    "name": "ipython",
    "version": 3
   },
   "file_extension": ".py",
   "mimetype": "text/x-python",
   "name": "python",
   "nbconvert_exporter": "python",
   "pygments_lexer": "ipython3",
   "version": "3.8.6"
  }
 },
 "nbformat": 4,
 "nbformat_minor": 4
}
