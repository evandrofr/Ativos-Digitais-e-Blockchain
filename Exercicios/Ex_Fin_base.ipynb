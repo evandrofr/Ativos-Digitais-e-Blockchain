{
 "cells": [
  {
   "cell_type": "code",
   "execution_count": 2,
   "metadata": {},
   "outputs": [],
   "source": [
    "def valor_final_juros_simples(montante, taxa, tempo):\n",
    "    return montante*(1 + taxa*tempo)\n",
    "\n",
    "\n",
    "def valor_inicial_juros_simples(montante_final, taxa, tempo):\n",
    "    return montante_final/(1 + taxa*tempo)"
   ]
  },
  {
   "cell_type": "code",
   "execution_count": 3,
   "metadata": {},
   "outputs": [],
   "source": [
    "def valor_final_juros_compostos(montante, taxa, tempo):\n",
    "    return montante*(1 + taxa)**tempo"
   ]
  },
  {
   "cell_type": "code",
   "execution_count": 4,
   "metadata": {},
   "outputs": [],
   "source": [
    "def taxa_proporcional(taxa_tenho,tempo_tenho, tempo_quero):\n",
    "    return taxa_tenho/(tempo_tenho/tempo_quero)\n",
    "\n",
    "def taxa_equivalente(taxa_tenho,tempo_tenho, tempo_quero):\n",
    "    return (1 + taxa_tenho)**(tempo_quero/tempo_tenho)-1"
   ]
  },
  {
   "cell_type": "markdown",
   "metadata": {},
   "source": [
    "01.\tUma instituição financeira paga juros simples de 9% a.a. Aplicando hoje R$1.000.000,00, o Montante ao final de cinco anos será de\n",
    "\n",
    "a.\t1.538.623,955<br>\n",
    "b.\t1.648.575,755<br>\n",
    "c.\t1.982.435,253<br>\n",
    "d.\t24.760.990,00<br>\n",
    "__e.\t1.450.000,00__"
   ]
  },
  {
   "cell_type": "code",
   "execution_count": 5,
   "metadata": {},
   "outputs": [
    {
     "name": "stdout",
     "output_type": "stream",
     "text": [
      "1450000.0\n"
     ]
    }
   ],
   "source": [
    "montante_i = 1_000_000 #R$\n",
    "taxa_JS = 0.09 #%a.a.\n",
    "tempo = 5 #anos\n",
    "# montante_f = montante_i + montante_i*taxa*tempo\n",
    "# montante_f = montante_i*(1 + taxa*tempo)\n",
    "resultado = valor_final_juros_simples(montante_i, taxa_JS, tempo)\n",
    "print(resultado)\n"
   ]
  },
  {
   "cell_type": "markdown",
   "metadata": {},
   "source": [
    "02.\tUma instituição financeira paga taxa de juros simples de 2% a.m. A quantia a ser aplicada para que se obtenham R$ 100.000,00 em 2anos deve ser de .\n",
    "\n",
    "a.\t74.085,30<br>\n",
    "b.\t68.845,88<br>\n",
    "c.\t46.044,00<br>\n",
    "__d.\t67.567,56__<br>\n",
    "e.\t76.400,00\n"
   ]
  },
  {
   "cell_type": "code",
   "execution_count": 6,
   "metadata": {},
   "outputs": [
    {
     "name": "stdout",
     "output_type": "stream",
     "text": [
      "67567.56756756757\n"
     ]
    }
   ],
   "source": [
    "montante_final = 100_000 #R$\n",
    "taxa_JS = 0.02 #% a.m.\n",
    "tempo = 2*12 #meses\n",
    "# mf = mi + mi*taxa*tempo\n",
    "# mi = mf/(1 + taxa*tempo)\n",
    "resultado = valor_inicial_juros_simples(montante_final, taxa_JS, tempo)\n",
    "print(resultado)"
   ]
  },
  {
   "cell_type": "markdown",
   "metadata": {},
   "source": [
    "03.\tUm investidor aplica a quantia de R$ 50.000,00 por 4 dias, no regime de juros simples a uma taxa de 3% a.m. Os rendimentos auferidos no período serão de .\n",
    "\n",
    "a.\t253,00<br>\n",
    "__b.\t200,00__<br>\n",
    "c.\t200,30<br>\n",
    "d.\t197,45<br>\n",
    "e.\t500,00\n"
   ]
  },
  {
   "cell_type": "code",
   "execution_count": 7,
   "metadata": {},
   "outputs": [
    {
     "name": "stdout",
     "output_type": "stream",
     "text": [
      "200.0\n"
     ]
    }
   ],
   "source": [
    "montante_i = 50_000 #R$\n",
    "taxa = 0.03 #% a.m.\n",
    "tempo = 4 #dias\n",
    "dias_por_mes = 30\n",
    "# PROPORCIONAL em juros simples\n",
    "# Basta fazer a razão entre o tempo e a taxa\n",
    "tempo_proporcional = tempo/dias_por_mes\n",
    "resultado = valor_final_juros_simples(montante_i,taxa,tempo_proporcional) - montante_i\n",
    "print(resultado)"
   ]
  },
  {
   "cell_type": "markdown",
   "metadata": {},
   "source": [
    "04.\tUma pessoa toma um empréstimo de RS 25.000,00, por 5 meses, com pagamento no final. O custo da operação é de 10% a.m. O montante do empréstimo no final.(j simples e j compostos) será de \n",
    "\n",
    "__a.\t37.500,00; 40.262,75__<br>\n",
    "b.\t38.850,00; 41.362,75<br>\n",
    "c.\t40.262,75; 38.500,00<br>\n",
    "d.\t37.500,00; 40.742,75 <br>\n",
    "e.\t47.500,00; 40.278,75\n"
   ]
  },
  {
   "cell_type": "code",
   "execution_count": 8,
   "metadata": {},
   "outputs": [
    {
     "name": "stdout",
     "output_type": "stream",
     "text": [
      "Simples: 37500.0\n",
      "Compostos: 40262.750000000015\n"
     ]
    }
   ],
   "source": [
    "montante_i = 25_000 #R$\n",
    "taxa = 0.10 #% a.m.\n",
    "tempo = 5 #meses\n",
    "resultado_simples = valor_final_juros_simples(montante_i, taxa, tempo)\n",
    "resultado_composto = valor_final_juros_compostos(montante_i, taxa, tempo)\n",
    "print(\"Simples: {}\".format(resultado_simples))\n",
    "print(\"Compostos: {}\".format(resultado_composto))"
   ]
  },
  {
   "cell_type": "markdown",
   "metadata": {},
   "source": [
    "05.\tUm capital inicial de R$ 60.000,00 é investido por 81 dias. No regime de juros compostos, às taxa de 1.2% a.m. O valor de resgate bruto será de \n",
    "\n",
    "a.\t62.535,23<br>\n",
    "b.\t60.857,00<br>\n",
    "__c.\t61.963,88__<br>\n",
    "d.\t70.457,35<br>\n",
    "e.\t61.944,00\n"
   ]
  },
  {
   "cell_type": "code",
   "execution_count": 9,
   "metadata": {},
   "outputs": [
    {
     "name": "stdout",
     "output_type": "stream",
     "text": [
      "61963.88427082662\n"
     ]
    }
   ],
   "source": [
    "montante_i = 60_000 #R$\n",
    "taxa = 0.012 #% a.m.\n",
    "tempo = 81 #dias\n",
    "dias_por_mes = 30\n",
    "# TEMPO EQUIVALENTE EM JUROS COMPORSTOS\n",
    "tempo_equivalente = tempo/dias_por_mes\n",
    "resultado = valor_final_juros_compostos(montante_i,taxa,tempo_equivalente)\n",
    "print(resultado)"
   ]
  },
  {
   "cell_type": "markdown",
   "metadata": {},
   "source": [
    "06.\tUma aplicação de RS 40.000,00 gera um montante de R$ 86.730,00, em 95 dias, regime de juros compostos.A taxa efetiva mensal da operação é de .\n",
    "\n",
    "__a.\t27,68 %__<br> \n",
    "b.\t18,48 %<br>\n",
    "c.\t29,25 %<br>\n",
    "d.\t35,80 %<br>\n",
    "e.\t14,50 %\n"
   ]
  },
  {
   "cell_type": "code",
   "execution_count": 10,
   "metadata": {},
   "outputs": [
    {
     "name": "stdout",
     "output_type": "stream",
     "text": [
      "27.68497516116377 %\n"
     ]
    }
   ],
   "source": [
    "montante_i = 40_000 #R$\n",
    "montante_f = 86_730 #R$\n",
    "tempo = 95 #dias\n",
    "\n",
    "#mf = mi*(1 + taxa)**tempo => (mf/mi)**(1/tempo) - 1 = taxa\n",
    "taxa_diaria = (montante_f/montante_i)**(1/tempo) - 1\n",
    "# Transforma uma taxa diaria em mensal\n",
    "# taxa_quero = (1 + taxa_tenho)**(tempo_quero/tempo_tenho) - 1\n",
    "taxa_mensal = (1 + taxa_diaria)**(30/1)-1\n",
    "print(\"{} %\".format(taxa_mensal*100))"
   ]
  },
  {
   "cell_type": "markdown",
   "metadata": {},
   "source": [
    "07.\tA taxa trimestral proporcional à taxa de 21% a.a. é\n",
    "\n",
    "a.\t2,45 %<br>\n",
    "b.\t3,58 %<br>\n",
    "c.\t7,00 %<br>\n",
    "d.\t5,50 %<br>\n",
    "__e.\t5,25 %__\n",
    "\n"
   ]
  },
  {
   "cell_type": "code",
   "execution_count": 11,
   "metadata": {},
   "outputs": [
    {
     "name": "stdout",
     "output_type": "stream",
     "text": [
      "5.25 %\n",
      "5.25 %\n"
     ]
    }
   ],
   "source": [
    "# PROPORCIONAL == JUROS SIMPLES\n",
    "taxa_anual = 0.21 #% a.a.\n",
    "# jeito 1\n",
    "taxa_trimestral1 = taxa_anual/4 # pois um ano tem 4 trimestres\n",
    "# jeito 2\n",
    "taxa_trimestral2 = taxa_proporcional(taxa_anual,12,3)\n",
    "print(\"{} %\".format(taxa_trimestral1*100))\n",
    "print(\"{} %\".format(taxa_trimestral2*100))"
   ]
  },
  {
   "cell_type": "markdown",
   "metadata": {},
   "source": [
    "08.\tA taxa mensal proporcional à taxa de 36% a.a. é \n",
    "\n",
    "a.\t2,453 %<br>\n",
    "__b.\t3,00 %__ <br>\n",
    "c.\t2,00 %<br>\n",
    "d.\t2,567 %<br>\n",
    "e.\t3,5 %"
   ]
  },
  {
   "cell_type": "code",
   "execution_count": 12,
   "metadata": {},
   "outputs": [
    {
     "name": "stdout",
     "output_type": "stream",
     "text": [
      "3.0 %\n",
      "3.0 %\n"
     ]
    }
   ],
   "source": [
    "# PROPORCIONAL == JUROS SIMPLES\n",
    "taxa_anual = 0.36 #% a.a.\n",
    "# jeito 1\n",
    "taxa_mensal1 = taxa_anual/12 # pois um ano tem 12 meses\n",
    "# jeito 2\n",
    "taxa_mensal2 = taxa_proporcional(taxa_anual, 12, 1)\n",
    "print(\"{} %\".format(taxa_mensal1*100))\n",
    "print(\"{} %\".format(taxa_mensal2*100))"
   ]
  },
  {
   "cell_type": "markdown",
   "metadata": {},
   "source": [
    "09.\tA taxa diária equivalente “a taxa de 4% a.m”. é \n",
    "\n",
    "a.\t0,2318 %<br>\n",
    "b.\t0,1333 %<br>\n",
    "c.\t1,1318 %<br>\n",
    "__d.\t0,1308 %__<br>\n",
    "e.\t0, 2308%"
   ]
  },
  {
   "cell_type": "code",
   "execution_count": 13,
   "metadata": {},
   "outputs": [
    {
     "name": "stdout",
     "output_type": "stream",
     "text": [
      "0.13082120689500432 %\n",
      "0.13082120689500432 %\n"
     ]
    }
   ],
   "source": [
    "# EQUIVALENTE == JUROS COMPOSTOS\n",
    "taxa_mensal = 0.04 #% a.m.\n",
    "# jeito 1\n",
    "taxa_diaria1 = (1 + taxa_mensal)**(1/30)-1\n",
    "# jeito 2\n",
    "taxa_diaria2 = taxa_equivalente(taxa_mensal,30,1)\n",
    "print(\"{} %\".format(taxa_diaria1*100))\n",
    "print(\"{} %\".format(taxa_diaria2*100))"
   ]
  },
  {
   "cell_type": "markdown",
   "metadata": {},
   "source": [
    " \n",
    "10.\tA  taxa por dia útil equivalente à taxa de 1.5% a.m. (21 dias úteis) é \n",
    "\n",
    "a.\t0,07143 %<br>\n",
    "b.\t0,71925 %<br>\n",
    "__c.\t0,07092 %__<br>\n",
    "d.\t0,7143 %<br>\n",
    "e.\t0,0015 %"
   ]
  },
  {
   "cell_type": "code",
   "execution_count": 14,
   "metadata": {},
   "outputs": [
    {
     "name": "stdout",
     "output_type": "stream",
     "text": [
      "0.07092329341447101 %\n",
      "0.07092329341447101 %\n"
     ]
    }
   ],
   "source": [
    "# EQUIVALENTE == JUROS COMPOSTOS\n",
    "taxa_mensal = 0.015 #% a.m.\n",
    "# jeito 1\n",
    "taxa_dia_util1 = (1 + taxa_mensal)**(1/21)-1\n",
    "# jeito 2\n",
    "taxa_dia_util2 = taxa_equivalente(taxa_mensal,21,1)\n",
    "print(\"{} %\".format(taxa_dia_util1*100))\n",
    "print(\"{} %\".format(taxa_dia_util2*100))"
   ]
  },
  {
   "cell_type": "markdown",
   "metadata": {},
   "source": [
    "11.\tUma pessoa investe R$ 50.000,00 no mercado financeiro por três meses, obtendo as seguintes rentabilidades efetivas mensais: primeiro mês  5%, segundo mês 8% e no terceiro  mês  10%,  o montante de resgate será de .\n",
    "\n",
    "a.\t62.570,00<br>\n",
    "b.\t71.800,00<br>\n",
    "c.\t63.510,00<br>\n",
    "d.\t75.200,00<br>\n",
    "__e.\t62.370,00__"
   ]
  },
  {
   "cell_type": "code",
   "execution_count": 15,
   "metadata": {},
   "outputs": [
    {
     "name": "stdout",
     "output_type": "stream",
     "text": [
      "62370.000000000015\n"
     ]
    }
   ],
   "source": [
    "montante_i = 50_000 # R$\n",
    "taxa_por_mes = [0.05, 0.08, 0.10] # a.m.\n",
    "resultado = montante_i\n",
    "for taxa in taxa_por_mes:\n",
    "    resultado = valor_final_juros_compostos(resultado, taxa, 1)\n",
    "print(resultado)\n"
   ]
  },
  {
   "cell_type": "markdown",
   "metadata": {},
   "source": [
    "12.\tUma operação interbancária com principal de RS1. 000.000,00 é realizada por 5 dias úteis. As taxas over ano da operação são as seguintes: 15,25% a.a., 15,30% a.a., 15,40% a.a., 15,45% a.a., 15,50% a.a. O montante da operação será de\n",
    "\n",
    "__a.\t1.002.842,53__<br>\n",
    "b.\t1.001.954,54<br>\n",
    "c.\t1.003.234,23<br>\n",
    "d.\t1.002.107,63<br>\n",
    "e.\t1.001.444,18"
   ]
  },
  {
   "cell_type": "code",
   "execution_count": 20,
   "metadata": {},
   "outputs": [
    {
     "name": "stdout",
     "output_type": "stream",
     "text": [
      "1002842.534739433\n"
     ]
    }
   ],
   "source": [
    "montante_i = 1_000_000 # R$\n",
    "tempo = 5 # dias\n",
    "taxa_por_dia = [0.1525, 0.1530, 0.1540, 0.1545, 0.1550]\n",
    "resultado = montante_i\n",
    "for taxa in taxa_por_dia:\n",
    "    taxa_eq = taxa_equivalente(taxa, 252, 1) # 252 dias uteis por ano\n",
    "    resultado = valor_final_juros_compostos(resultado, taxa_eq, 1)\n",
    "print(resultado)"
   ]
  },
  {
   "cell_type": "markdown",
   "metadata": {},
   "source": [
    "### QUESTÕES N.º 13, N.º 14 e N.º 15.\n",
    "\n",
    "Um indivíduo aplicou no mercado financeiro no início de janeiro de 200X a quantia de RS 500.000,00 e resgatou, no final de abril do mesmo ano, o valor de RS 1.200.000,00.<br>\n",
    "As taxas de inflação mensal do período. Foram: JAN 16,51%, FEV 17,96%, MAR 16,01%, ABR 19,28%."
   ]
  },
  {
   "cell_type": "markdown",
   "metadata": {},
   "source": [
    "13.\tA taxa da operação no período  foi de :\n",
    "\n",
    "a.\t240 %<br>\n",
    "__b.\t140 %__<br>\n",
    "c.\t200 %<br>\n",
    "d.\t50 %<br>\n",
    "e.\t90 %"
   ]
  },
  {
   "cell_type": "code",
   "execution_count": 32,
   "metadata": {},
   "outputs": [
    {
     "name": "stdout",
     "output_type": "stream",
     "text": [
      "140.0 %\n"
     ]
    }
   ],
   "source": [
    "montante_i = 500_000 # R$\n",
    "montante_f = 1_200_000 # R$\n",
    "taxa_operacao = montante_f/montante_i - 1\n",
    "print(\"{} %\".format(taxa_operacao*100))"
   ]
  },
  {
   "cell_type": "markdown",
   "metadata": {},
   "source": [
    "14.\tA taxa de inflação acumulada foi de:\n",
    "\n",
    "a.\t122,00 %<br>\n",
    "b.\t96, 42 %<br>\n",
    "c.\t69,76 %<br>\n",
    "__d.\t90,18 %__<br>\n",
    "e.\t118,00 %"
   ]
  },
  {
   "cell_type": "code",
   "execution_count": 35,
   "metadata": {},
   "outputs": [
    {
     "name": "stdout",
     "output_type": "stream",
     "text": [
      "90.17832734518687 %\n"
     ]
    }
   ],
   "source": [
    "lista_inflacao = [0.1651, 0.1796, 0.1601, 0.1928]\n",
    "montante_inflacao = montante_i\n",
    "for taxa in lista_inflacao:\n",
    "    montante_inflacao = valor_final_juros_compostos(montante_inflacao, taxa, 1)\n",
    "infla_acu = (montante_inflacao - montante_i)/montante_i\n",
    "print(\"{} %\".format(infla_acu*100))"
   ]
  },
  {
   "cell_type": "markdown",
   "metadata": {},
   "source": [
    "15.\tA taxa real de retorno (período) foi de:\n",
    "\n",
    "a.\t34,54 %<br>\n",
    "b.\t49,82 %<br>\n",
    "__c.\t26,20 %__<br>\n",
    "d.\t35,33 %<br>\n",
    "e.\t18, 45 %"
   ]
  },
  {
   "cell_type": "code",
   "execution_count": 39,
   "metadata": {},
   "outputs": [
    {
     "name": "stdout",
     "output_type": "stream",
     "text": [
      "26.197345065709477 %\n"
     ]
    }
   ],
   "source": [
    "taxa_real = (montante_f - montante_inflacao)/montante_inflacao\n",
    "print(\"{} %\".format(taxa_real*100))"
   ]
  },
  {
   "cell_type": "markdown",
   "metadata": {},
   "source": [
    "### QUESTÕES N.º 16 e N.º 17.\n",
    "Apresenta-se a seguinte operação para nossa avaliação: Aplicar R$ 1.000.000, por 42 dias com duas alternativas."
   ]
  },
  {
   "cell_type": "markdown",
   "metadata": {},
   "source": [
    "16.\tO montante da operação, considerando-se juros de 14% a.a. (juros simples, base 365) será de \n",
    "\n",
    "a.\t1.031.425,59<br>\n",
    "b.\t1.006.219,29 <br>\n",
    "c.\t1.026.302,12<br>\n",
    "d.\t1.036.239,78<br>\n",
    "__e.\t1.016.109,59__"
   ]
  },
  {
   "cell_type": "code",
   "execution_count": 42,
   "metadata": {},
   "outputs": [
    {
     "name": "stdout",
     "output_type": "stream",
     "text": [
      "1016109.5890410958\n"
     ]
    }
   ],
   "source": [
    "montante_i = 1_000_000 # R$\n",
    "tempo = 42 # dias\n",
    "taxa = 0.14 # a.a.\n",
    "taxa_eq = taxa_proporcional(taxa, 365, 1) # 365 dias por ano\n",
    "res = valor_final_juros_simples(montante_i, taxa_eq, tempo)\n",
    "print(res)"
   ]
  },
  {
   "cell_type": "markdown",
   "metadata": {},
   "source": [
    "17.\tO montante da operação, considerando-se juros de 16% a.a., (juros compostos, base 360) será de\n",
    "\n",
    "a.\t1.017.225,14<br>\n",
    "b.\t1.018.410,96<br>\n",
    "c.\t1.038.240,18<br>\n",
    "__d.\t1.017.466,45__<br>\n",
    "e.\t1.009.970,34"
   ]
  },
  {
   "cell_type": "code",
   "execution_count": 44,
   "metadata": {},
   "outputs": [
    {
     "name": "stdout",
     "output_type": "stream",
     "text": [
      "1017466.4524884986\n"
     ]
    }
   ],
   "source": [
    "montante_i = 1_000_000 # R$\n",
    "tempo = 42 # dias\n",
    "taxa = 0.16 # a.a.\n",
    "taxa_eq = taxa_equivalente(taxa, 360, 1) # 360 dias por ano\n",
    "res = valor_final_juros_compostos(montante_i, taxa_eq, tempo)\n",
    "print(res)"
   ]
  },
  {
   "cell_type": "markdown",
   "metadata": {},
   "source": [
    " \n",
    "### QUESTÕES N.º 18, N.º 19 e N.º 20.\n",
    "Uma duplicata de R$ 18.000,00 foi descontada num banco dois meses antes do vencimento, a uma taxa de desconto de 2,5% a.m."
   ]
  },
  {
   "cell_type": "markdown",
   "metadata": {},
   "source": [
    "18.\tO desconto foi de\n",
    "\n",
    "a.\t827,25<br>\n",
    "b.\t918,00<br>\n",
    "c.\t1.038,18<br>\n",
    "__d.\t900,00__<br>\n",
    "e.\t867,34"
   ]
  },
  {
   "cell_type": "code",
   "execution_count": 45,
   "metadata": {},
   "outputs": [
    {
     "name": "stdout",
     "output_type": "stream",
     "text": [
      "900.0\n"
     ]
    }
   ],
   "source": [
    "duplicata = 18_000 # R$\n",
    "taxa_desconto = 0.025 # a.m.\n",
    "tempo = 2 # meses\n",
    "desconto = duplicata*tempo*taxa_desconto\n",
    "print(desconto)"
   ]
  },
  {
   "cell_type": "markdown",
   "metadata": {},
   "source": [
    "19.\tO valor descontado dessa operação foi de \n",
    "\n",
    "a.\t16.990,26<br>\n",
    "__b.\t17.100,00__<br>\n",
    "c.\t16.961,82<br>\n",
    "d.\t17.081,00<br>\n",
    "e.\t17.132,66"
   ]
  },
  {
   "cell_type": "code",
   "execution_count": 46,
   "metadata": {},
   "outputs": [
    {
     "name": "stdout",
     "output_type": "stream",
     "text": [
      "17100.0\n"
     ]
    }
   ],
   "source": [
    "valor_descontado = duplicata - desconto\n",
    "print(valor_descontado)"
   ]
  },
  {
   "cell_type": "markdown",
   "metadata": {},
   "source": [
    "20.\t. A  taxa efetiva da operação foi de   \n",
    "\n",
    "a.\t5,14 %<br>\n",
    "b.\t3,96 %<br>\n",
    "__c.\t5,26 %__<br>\n",
    "d.\t4,18 %<br>\n",
    "e.\t5,00 % "
   ]
  },
  {
   "cell_type": "code",
   "execution_count": 53,
   "metadata": {},
   "outputs": [
    {
     "name": "stdout",
     "output_type": "stream",
     "text": [
      "5.263157894736842 %\n"
     ]
    }
   ],
   "source": [
    "taxa_efetiva = desconto/valor_descontado\n",
    "print(\"{} %\".format(taxa_efetiva*100))"
   ]
  },
  {
   "cell_type": "code",
   "execution_count": null,
   "metadata": {},
   "outputs": [],
   "source": []
  }
 ],
 "metadata": {
  "kernelspec": {
   "display_name": "Python 3",
   "language": "python",
   "name": "python3"
  },
  "language_info": {
   "codemirror_mode": {
    "name": "ipython",
    "version": 3
   },
   "file_extension": ".py",
   "mimetype": "text/x-python",
   "name": "python",
   "nbconvert_exporter": "python",
   "pygments_lexer": "ipython3",
   "version": "3.8.6"
  }
 },
 "nbformat": 4,
 "nbformat_minor": 4
}
